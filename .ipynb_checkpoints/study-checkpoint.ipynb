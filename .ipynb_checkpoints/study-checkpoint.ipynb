{
 "cells": [
  {
   "cell_type": "markdown",
   "id": "33537edc-6f11-4f40-a437-3b0494db5cc4",
   "metadata": {},
   "source": [
    "# Carbon Absorption at Different Water Temperatures"
   ]
  },
  {
   "cell_type": "code",
   "execution_count": 3,
   "id": "ec76d8e2-5d42-41a3-adb3-0fc34ecb74b7",
   "metadata": {},
   "outputs": [],
   "source": [
    "import numpy as np\n",
    "import pandas as pd\n",
    "import matplotlib.pyplot as plt"
   ]
  },
  {
   "cell_type": "markdown",
   "id": "8bf2b7b5-2316-4aea-8ced-861b39bb98d4",
   "metadata": {},
   "source": [
    "#### Context"
   ]
  },
  {
   "cell_type": "markdown",
   "id": "f384f61c-ed99-4483-bb23-d0c418f55d29",
   "metadata": {},
   "source": [
    "Our lab group has decided to test a hypothesis surrounding the carbon absorption of fresh water algae when subjected to extreme water temperatures. We believe this to be an important study due to the rising global temperatures, which in turn contribute to warmer than average water temperatures."
   ]
  },
  {
   "cell_type": "markdown",
   "id": "51a49ca6-2dfd-4194-bc9b-fb7678f79941",
   "metadata": {},
   "source": [
    "#### Need"
   ]
  },
  {
   "cell_type": "markdown",
   "id": "805d38c0-93cf-4de5-bdac-6aaab3d41062",
   "metadata": {},
   "source": [
    "We believed this to be a necessary study due to the current global climate crisis. We have seen a drastic uptick in carbon emissions since the Industrial Revlotuion, which has resulted in a green-house gas effect. This effect has been consistantly raising the global average temperature, and therefore the average water temperature. Knowing the effects different temperatures will have on the carbon absorption rate of algae can provide us with insight on how the raising temperatures may effect water-based plant life."
   ]
  },
  {
   "cell_type": "markdown",
   "id": "0be323e6-2123-4713-aeed-c4ca6372cae8",
   "metadata": {},
   "source": [
    "### Table of Contents"
   ]
  },
  {
   "cell_type": "markdown",
   "id": "0a43bd70-a789-4ade-b1bc-ab311fe202de",
   "metadata": {},
   "source": [
    "> Setting Up the Experiment\n",
    "\n",
    "> Materials Required\n",
    "\n",
    "> Rules of Conduct\n",
    "\n",
    "> Experiment Data\n",
    "\n",
    "> Clarifying the Results\n",
    "\n",
    "> Data Visualization\n",
    "> Summary"
   ]
  },
  {
   "cell_type": "markdown",
   "id": "4bacaf31-3d9e-4329-b79d-33543a06d568",
   "metadata": {},
   "source": [
    "### Setting Up The Experiment"
   ]
  },
  {
   "cell_type": "markdown",
   "id": "7dbd9a04-b677-42cd-89fd-2297d3b0c212",
   "metadata": {},
   "source": [
    "First, our group was tasked with coming up with a question in which we could conduct an experiment on that related to the carbon absorbtion of algae. More specifically, the experiment was supposed to answer a question on how algae beads and cellular respiration would function in nature. Our group decided the question we would ask is:\n",
    "\n",
    "**Does the temperature of water have an effect on how alagae goes through photosynthesis and absorbes Carbon Dioxide?**\n",
    "\n",
    "In an investigational sense, we would be attempting to answer what effect extreme temperatures would have on the algaes rate of carbon absorption. In order to properly conduct the experiment, we must first answer a few questions:\n",
    "\n",
    "**What is our independant variable?** In this case, it would be the temperature of the water.\n",
    "\n",
    "**What is our dependant variable?** The absorbtion rates of carbon dioxide, measure by an enzyme indicator solution.\n",
    "\n",
    "**What will our contants be?**\n",
    "\n",
    "- Water PH\n",
    "- Water Alkalinity\n",
    "- Quantity of water being subjected to temperature\n",
    "- Quantity of Algae per container\n",
    "- Thermometer brand and type\n",
    "- Measurment interval set at every two and a half minutes\n",
    "- Container that stores the algae beads\n",
    "- Starting PH of algae\n",
    "\n",
    "**How will we control the experiment?** One vial of water and algae beads will be maintained at the average water temperature of 14.5 degrees C, with all constants. This will allow for us to set a baseline for the independant variables.\n",
    "\n",
    "*Saftey Note: A heating element will be involved. Ensure to take proper care when working with the element as to not get burned**"
   ]
  },
  {
   "cell_type": "markdown",
   "id": "afe238ca-3440-48df-a780-4ba6ef08f2f8",
   "metadata": {},
   "source": [
    "### Materials Required"
   ]
  },
  {
   "cell_type": "markdown",
   "id": "92cde260-6f41-4fd0-a615-75453b0d3b78",
   "metadata": {},
   "source": [
    "The following materials will be required for conducting this experiment:\n",
    "\n",
    "- Cold water (Temp: 5degC)\n",
    "- Warm water (Temp: 25degC)\n",
    "- Ambient water (Temp: 14degC)\n",
    "- Beakers for water (X3)\n",
    "- Xml of indicator solution (X3)\n",
    "- Algae Beads (X6)\n",
    "- Thermometers (X3)\n",
    "- Heating Element\n",
    "- Bucket\n",
    "- Ice\n",
    "- Water\n",
    "- Grow light (X3) to facilitate photosynthesis conditions.\n"
   ]
  },
  {
   "cell_type": "markdown",
   "id": "3eb45956-fa9d-4709-a36b-2b49db374c76",
   "metadata": {},
   "source": [
    "### Rules of Conduct"
   ]
  },
  {
   "cell_type": "markdown",
   "id": "14d6d545-8754-490c-96a1-dad761c83f33",
   "metadata": {},
   "source": [
    "**Data to be collected:**\n",
    "\n",
    "We will be measuring the rate of PH change in two and a half minute intervals from each beaker. The experiment will last for a total of 30 minutes, providing a total of 16 data points (including the initial 0 minute measurment).\n",
    "\n",
    "**Data Analytics**\n",
    "\n",
    "The data from the experiment will be visualized by graphical means. This will help provide a clear picture on the results, and allow us to determine if the water temperature has any effect opn CO2 absorption rates."
   ]
  },
  {
   "cell_type": "markdown",
   "id": "adc7ef94-8610-485e-9daf-8622d7e2e5c2",
   "metadata": {},
   "source": [
    "### Experiment Data"
   ]
  },
  {
   "cell_type": "markdown",
   "id": "914601f1-0c73-4c87-af2a-11e0ebeb9c57",
   "metadata": {},
   "source": [
    "**Initial Prediction:** We believe warmer temperatures will be more condusive to photosynthesis as opposed to extreme cold.\n",
    "\n",
    "Sixteen data points were collected over the span of thirty minutes for each water temperature. The results were as follows:"
   ]
  },
  {
   "cell_type": "code",
   "execution_count": 14,
   "id": "0aab8d27-730a-420b-a31d-b4550570e5b3",
   "metadata": {},
   "outputs": [],
   "source": [
    "cold = pd.Series([6.9,6.9,6.9,6.9,6.9,6.9,6.9,6.9,6.9,6.9,6.9,6.9,6.9,6.9,6.9,6.9])\n",
    "avg = pd.Series([6.9,6.9,7.1,7.1,7.3,7.3,7.5,7.5,7.5,7.7,7.7,7.7,7.9,7.9,7.9,8.1])\n",
    "warm = pd.Series([6.9,7.1,7.5,7.7,7.9,8.3,8.3,8.7,8.9,8.9,8.9,8.9,8.9,8.9,8.9,8.9])\n",
    "\n",
    "data = {\n",
    "    'interval': [0,2,4,6,8,10,12,14,16,18,20,22,24,26,28,30],\n",
    "    '5C': cold,\n",
    "    '15C': avg,\n",
    "    '25C': warm\n",
    "}\n",
    "\n",
    "df = pd.DataFrame(data).set_index('interval')"
   ]
  },
  {
   "cell_type": "code",
   "execution_count": 15,
   "id": "78413e82-8d4f-4140-a24d-1de622ed62b0",
   "metadata": {},
   "outputs": [
    {
     "data": {
      "text/html": [
       "<div>\n",
       "<style scoped>\n",
       "    .dataframe tbody tr th:only-of-type {\n",
       "        vertical-align: middle;\n",
       "    }\n",
       "\n",
       "    .dataframe tbody tr th {\n",
       "        vertical-align: top;\n",
       "    }\n",
       "\n",
       "    .dataframe thead th {\n",
       "        text-align: right;\n",
       "    }\n",
       "</style>\n",
       "<table border=\"1\" class=\"dataframe\">\n",
       "  <thead>\n",
       "    <tr style=\"text-align: right;\">\n",
       "      <th></th>\n",
       "      <th>5C</th>\n",
       "      <th>15C</th>\n",
       "      <th>25C</th>\n",
       "    </tr>\n",
       "    <tr>\n",
       "      <th>interval</th>\n",
       "      <th></th>\n",
       "      <th></th>\n",
       "      <th></th>\n",
       "    </tr>\n",
       "  </thead>\n",
       "  <tbody>\n",
       "    <tr>\n",
       "      <th>0</th>\n",
       "      <td>6.9</td>\n",
       "      <td>6.9</td>\n",
       "      <td>6.9</td>\n",
       "    </tr>\n",
       "    <tr>\n",
       "      <th>2</th>\n",
       "      <td>6.9</td>\n",
       "      <td>6.9</td>\n",
       "      <td>7.1</td>\n",
       "    </tr>\n",
       "    <tr>\n",
       "      <th>4</th>\n",
       "      <td>6.9</td>\n",
       "      <td>7.1</td>\n",
       "      <td>7.5</td>\n",
       "    </tr>\n",
       "    <tr>\n",
       "      <th>6</th>\n",
       "      <td>6.9</td>\n",
       "      <td>7.1</td>\n",
       "      <td>7.7</td>\n",
       "    </tr>\n",
       "    <tr>\n",
       "      <th>8</th>\n",
       "      <td>6.9</td>\n",
       "      <td>7.3</td>\n",
       "      <td>7.9</td>\n",
       "    </tr>\n",
       "    <tr>\n",
       "      <th>10</th>\n",
       "      <td>6.9</td>\n",
       "      <td>7.3</td>\n",
       "      <td>8.3</td>\n",
       "    </tr>\n",
       "    <tr>\n",
       "      <th>12</th>\n",
       "      <td>6.9</td>\n",
       "      <td>7.5</td>\n",
       "      <td>8.3</td>\n",
       "    </tr>\n",
       "    <tr>\n",
       "      <th>14</th>\n",
       "      <td>6.9</td>\n",
       "      <td>7.5</td>\n",
       "      <td>8.7</td>\n",
       "    </tr>\n",
       "    <tr>\n",
       "      <th>16</th>\n",
       "      <td>6.9</td>\n",
       "      <td>7.5</td>\n",
       "      <td>8.9</td>\n",
       "    </tr>\n",
       "    <tr>\n",
       "      <th>18</th>\n",
       "      <td>6.9</td>\n",
       "      <td>7.7</td>\n",
       "      <td>8.9</td>\n",
       "    </tr>\n",
       "    <tr>\n",
       "      <th>20</th>\n",
       "      <td>6.9</td>\n",
       "      <td>7.7</td>\n",
       "      <td>8.9</td>\n",
       "    </tr>\n",
       "    <tr>\n",
       "      <th>22</th>\n",
       "      <td>6.9</td>\n",
       "      <td>7.7</td>\n",
       "      <td>8.9</td>\n",
       "    </tr>\n",
       "    <tr>\n",
       "      <th>24</th>\n",
       "      <td>6.9</td>\n",
       "      <td>7.9</td>\n",
       "      <td>8.9</td>\n",
       "    </tr>\n",
       "    <tr>\n",
       "      <th>26</th>\n",
       "      <td>6.9</td>\n",
       "      <td>7.9</td>\n",
       "      <td>8.9</td>\n",
       "    </tr>\n",
       "    <tr>\n",
       "      <th>28</th>\n",
       "      <td>6.9</td>\n",
       "      <td>7.9</td>\n",
       "      <td>8.9</td>\n",
       "    </tr>\n",
       "    <tr>\n",
       "      <th>30</th>\n",
       "      <td>6.9</td>\n",
       "      <td>8.1</td>\n",
       "      <td>8.9</td>\n",
       "    </tr>\n",
       "  </tbody>\n",
       "</table>\n",
       "</div>"
      ],
      "text/plain": [
       "           5C  15C  25C\n",
       "interval               \n",
       "0         6.9  6.9  6.9\n",
       "2         6.9  6.9  7.1\n",
       "4         6.9  7.1  7.5\n",
       "6         6.9  7.1  7.7\n",
       "8         6.9  7.3  7.9\n",
       "10        6.9  7.3  8.3\n",
       "12        6.9  7.5  8.3\n",
       "14        6.9  7.5  8.7\n",
       "16        6.9  7.5  8.9\n",
       "18        6.9  7.7  8.9\n",
       "20        6.9  7.7  8.9\n",
       "22        6.9  7.7  8.9\n",
       "24        6.9  7.9  8.9\n",
       "26        6.9  7.9  8.9\n",
       "28        6.9  7.9  8.9\n",
       "30        6.9  8.1  8.9"
      ]
     },
     "execution_count": 15,
     "metadata": {},
     "output_type": "execute_result"
    }
   ],
   "source": [
    "df"
   ]
  },
  {
   "cell_type": "markdown",
   "id": "7e5efaeb-f45c-47b7-8287-19f0bc8426bc",
   "metadata": {},
   "source": [
    "Visually, we can represent it as:"
   ]
  },
  {
   "cell_type": "code",
   "execution_count": 22,
   "id": "c157bfc8-364e-4fe5-9409-0e1673b72969",
   "metadata": {},
   "outputs": [
    {
     "data": {
      "image/png": "[encoded data removed]",
      "text/plain": [
       "<Figure size 640x480 with 1 Axes>"
      ]
     },
     "metadata": {},
     "output_type": "display_data"
    }
   ],
   "source": [
    "plt.plot(df.index, df['5C'], label = \"5C\")\n",
    "plt.plot(df.index, df['15C'], label = \"15C\")\n",
    "plt.plot(df.index, df['25C'], label = \"25C\")\n",
    "\n",
    "plt.grid(color='#95a5a6', linestyle='--', linewidth=1, axis='y', alpha=0.7)\n",
    "plt.xlabel('Minute')\n",
    "plt.ylabel('PH Level')\n",
    "plt.title('Rate of Carbon Absorption at Extreme Temperatures')\n",
    "\n",
    "plt.legend()\n",
    "plt.show()"
   ]
  },
  {
   "cell_type": "markdown",
   "id": "4b1abe30-63b6-43b4-90b4-20164b0dceb2",
   "metadata": {},
   "source": [
    "### Clarifying the Results"
   ]
  },
  {
   "cell_type": "markdown",
   "id": "d26fa0f1-3af0-431d-928e-f289803ec507",
   "metadata": {},
   "source": [
    "**The initial question:** Do extreme temperature differences effect the rate of carbon absorption and photosynthesis of algae?\n",
    "\n",
    "**Claim:** Higher temperatures will increase the rate at which photosynthesis occurs, to an uppbound so long as the level of heat is within an ideal range for living organisms. On the contrary, temperatures near or below freezing will halt the process of photosynthesis.\n",
    "\n",
    "**Evidence:** We can see by the results of the lab that the 5 degree Celsius group **did not** experience any photosynthesis. Conversely, the 25 degree Celsius group saw exponential rates of photosynthesis compared to the control group, reaching peak ph in roughly 1/3rd of the time it would have taken the control group.\n",
    "\n",
    "**Explanation:** Warmer temperatures are far more condusive to photsynthesis and the enzyme catalyzation than colder temperatures, up to a point. In fact, the 15 degree temperature average of our oceans is a little cold for optimal photosynthesis. In further studies, I would like to see the range shifted upwards by ten degrees, with 25 degrees C begin the control group."
   ]
  },
  {
   "cell_type": "markdown",
   "id": "d0665bc5-c90c-4ede-ab3b-1adef3a4e807",
   "metadata": {},
   "source": [
    "### Data Visualization Summary"
   ]
  },
  {
   "cell_type": "markdown",
   "id": "239d1260-5fb9-4e3a-b3df-4fd27a9a4f8a",
   "metadata": {},
   "source": [
    "We can see, based on the chart above the following information:\n",
    "\n",
    "> The 25 degree group saw a sharp growth curve einitially, and then tapered off to its maximum sustainable basic PH shortly after 15 minutes.\n",
    "\n",
    "> The 15 degree control maintained a linear progression. It can be surmised that it would have continued to taper off slightly, reaching maximum PH at around 75 minutes.\n",
    "\n",
    "> The 5 degree group saw no photosynthesis, and remained acidic throughout the experiment. It can be surmised that no growth would have occured at these temperatures."
   ]
  },
  {
   "cell_type": "code",
   "execution_count": null,
   "id": "4c013714-fec8-4b9c-a38e-af1789ece71a",
   "metadata": {},
   "outputs": [],
   "source": []
  }
 ],
 "metadata": {
  "kernelspec": {
   "display_name": "Python 3 (ipykernel)",
   "language": "python",
   "name": "python3"
  },
  "language_info": {
   "codemirror_mode": {
    "name": "ipython",
    "version": 3
   },
   "file_extension": ".py",
   "mimetype": "text/x-python",
   "name": "python",
   "nbconvert_exporter": "python",
   "pygments_lexer": "ipython3",
   "version": "3.10.8"
  }
 },
 "nbformat": 4,
 "nbformat_minor": 5
}
