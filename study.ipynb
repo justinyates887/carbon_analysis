{
 "cells": [
  {
   "cell_type": "markdown",
   "id": "33537edc-6f11-4f40-a437-3b0494db5cc4",
   "metadata": {},
   "source": [
    "# Carbon Absorption at Different Water Temperatures"
   ]
  },
  {
   "cell_type": "markdown",
   "id": "8bf2b7b5-2316-4aea-8ced-861b39bb98d4",
   "metadata": {},
   "source": [
    "#### Context"
   ]
  },
  {
   "cell_type": "markdown",
   "id": "f384f61c-ed99-4483-bb23-d0c418f55d29",
   "metadata": {},
   "source": [
    "Our lab group has decided to test a hypothesis surrounding the carbon absorption of fresh water algae when subjected to extreme water temperatures. We believe this to be an important study due to the rising global temperatures, which in turn contribute to warmer than average water temperatures."
   ]
  },
  {
   "cell_type": "markdown",
   "id": "51a49ca6-2dfd-4194-bc9b-fb7678f79941",
   "metadata": {},
   "source": [
    "#### Need"
   ]
  },
  {
   "cell_type": "markdown",
   "id": "805d38c0-93cf-4de5-bdac-6aaab3d41062",
   "metadata": {},
   "source": [
    "We believed this to be a necessary study due to the current global climate crisis. We have seen a drastic uptick in carbon emissions since the Industrial Revlotuion, which has resulted in a green-house gas effect. This effect has been consistantly raising the global average temperature, and therefore the average water temperature. Knowing the effects different temperatures will have on the carbon absorption rate of algae can provide us with insight on how the raising temperatures may effect water-based plant life."
   ]
  },
  {
   "cell_type": "markdown",
   "id": "0be323e6-2123-4713-aeed-c4ca6372cae8",
   "metadata": {},
   "source": [
    "### Table of Contents"
   ]
  },
  {
   "cell_type": "markdown",
   "id": "0a43bd70-a789-4ade-b1bc-ab311fe202de",
   "metadata": {},
   "source": [
    "> Setting Up the Expirement\n",
    "\n",
    "> Materials Required\n",
    "\n",
    "> Constants and Controls\n",
    "\n",
    "> Rules of Conduct\n",
    "\n",
    "> Expiriment Data\n",
    "\n",
    "> Clarifying the Results\n",
    "\n",
    "> Data Visualization\n",
    "> Summary"
   ]
  },
  {
   "cell_type": "markdown",
   "id": "4bacaf31-3d9e-4329-b79d-33543a06d568",
   "metadata": {},
   "source": [
    "### Setting Up The Expiriment"
   ]
  },
  {
   "cell_type": "code",
   "execution_count": null,
   "id": "c3bfef9b-8062-407f-9371-af52f27f11cf",
   "metadata": {},
   "outputs": [],
   "source": []
  }
 ],
 "metadata": {
  "kernelspec": {
   "display_name": "Python 3 (ipykernel)",
   "language": "python",
   "name": "python3"
  },
  "language_info": {
   "codemirror_mode": {
    "name": "ipython",
    "version": 3
   },
   "file_extension": ".py",
   "mimetype": "text/x-python",
   "name": "python",
   "nbconvert_exporter": "python",
   "pygments_lexer": "ipython3",
   "version": "3.10.6"
  }
 },
 "nbformat": 4,
 "nbformat_minor": 5
}
